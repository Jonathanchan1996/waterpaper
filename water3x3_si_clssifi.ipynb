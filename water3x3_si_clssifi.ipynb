{
 "cells": [
  {
   "cell_type": "code",
   "execution_count": 1,
   "id": "88ac2368-d804-44be-90ee-8e430f9bbfa8",
   "metadata": {},
   "outputs": [
    {
     "name": "stdout",
     "output_type": "stream",
     "text": [
      "/usr/bin/python3\n"
     ]
    }
   ],
   "source": [
    "import os\n",
    "import sys\n",
    "import numpy as np\n",
    "import pandas as pd\n",
    "import scipy.stats as stats\n",
    "\n",
    "import matplotlib.pyplot as plt\n",
    "from matplotlib.dates import DateFormatter\n",
    "from matplotlib.ticker import (AutoMinorLocator, MultipleLocator)\n",
    "import matplotlib.dates as mdates\n",
    "from datetime import datetime, timedelta\n",
    "\n",
    "\n",
    "print(sys.executable)\n",
    "\n",
    "%matplotlib ipympl\n",
    "\n",
    "color_array = [\n",
    "    (0.121, 0.466, 0.705, 1.0),  # Muted blue\n",
    "    (1.000, 0.498, 0.055, 1.0),  # Muted orange\n",
    "    (0.172, 0.627, 0.172, 1.0),  # Muted green\n",
    "    (0.839, 0.153, 0.157, 1.0),  # Muted red\n",
    "    (0.580, 0.404, 0.741, 1.0),  # Muted purple\n",
    "    (0.549, 0.337, 0.294, 1.0),  # Muted brown\n",
    "    (0.890, 0.466, 0.760, 1.0),  # Muted pink\n",
    "    (0.498, 0.498, 0.498, 1.0),  # Muted gray\n",
    "    (0.737, 0.741, 0.133, 1.0),  # Muted yellow-green\n",
    "]\n"
   ]
  },
  {
   "cell_type": "code",
   "execution_count": 2,
   "id": "a4998cda-583d-4932-a39b-ef1f0823a7cf",
   "metadata": {},
   "outputs": [],
   "source": [
    "class myWaterTest:\n",
    "  def __init__(self, testingTime, cumTimeOffset=0, liquLabel = 'DI Water', liquConc = '0uL/100mL', testingSequence=[]):\n",
    "    self.testingTime = testingTime\n",
    "    self.cumTimeOffset = cumTimeOffset#-10\n",
    "    self.liquLabel = liquLabel\n",
    "    self.liquConc = liquConc\n",
    "    self.csvFile = '/tf/data/waterSensor/aryData/sensor_'+testingTime+'.csv'\n",
    "    self.sequenceCsvFile = '/tf/data/waterSensor/aryData/pump_sequence_'+testingTime+'.csv'\n",
    "      \n",
    "    #Sensor data\n",
    "    colnames = ['time']+[f'px{i}' for i in range(9)]\n",
    "    self.df=pd.read_csv(self.csvFile, names=colnames, header=None, skipfooter=1, engine='python')\n",
    "    \n",
    "    self.df['datetime'] = pd.to_datetime(self.df['time'], format='%Y-%m-%dT%H:%M:%S%z').dt.tz_localize(None)\n",
    "    self.df = self.df.set_index(['datetime'])\n",
    "    self.df = self.df.drop('time', axis=1)\n",
    "    self.df.asfreq('s', method='ffill')\n",
    "\n",
    "    #Control data\n",
    "    self.seq_df=pd.read_csv(self.sequenceCsvFile, usecols=['Time(s)']+[f\"Pump {i+1} (rpm)\" for i in range(6)])\n",
    "    seq_cycle = int(pd.read_csv(self.sequenceCsvFile)['Cycle'][0])\n",
    "    self.seq_df = pd.concat([self.seq_df]*seq_cycle)\n",
    "    self.seq_df['cumTime'] = self.seq_df['Time(s)'].cumsum(axis = 0)\n",
    "    self.seq_df = self.seq_df.rename(columns=dict(zip([f\"Pump {i+1} (rpm)\" for i in range(6)], [f\"Pump{i+1}\" for i in range(6)])))\n",
    "    \n",
    "    self.seq_df = pd.DataFrame(\n",
    "        data=self.seq_df.values.repeat(2, axis=0),  # Repeat each row twice\n",
    "        columns=self.seq_df.columns                # Keep the column names\n",
    "    )\n",
    "    self.seq_df['cumTime'] = self.seq_df['cumTime'].shift(1).fillna(0)\n",
    "    self.seq_df.loc[self.seq_df.index[1::2], 'cumTime'] = self.seq_df.loc[self.seq_df.index[1::2], 'cumTime'] - 1\n",
    "    \n",
    "    self.seq_df[\"timestamp\"] = self.seq_df[\"cumTime\"].apply(lambda x: self.df.index[0] + timedelta(seconds=x) if x >= 0 else None)\n",
    "    self.seq_df.set_index(\"timestamp\", inplace=True)\n",
    "    \n",
    "    #Set keyframe\n",
    "    flowRatePt = 20\n",
    "    self.keyTime = self.seq_df[(self.seq_df.Pump2>0)|(self.seq_df.Pump3>0)|(self.seq_df.Pump4>0)|(self.seq_df.Pump5>0)].index #(seq_df.Pump1==20)|\n",
    "    self.keyTime = self.keyTime[1::2]\n",
    "    self.keyTime = self.keyTime[1::2]\n",
    "    # print(keyTime)\n",
    "\n",
    "    flowRatePt = 100\n",
    "    # self.keyTimeBaseline = self.seq_df[(self.seq_df.Pump2==flowRatePt)|(self.seq_df.Pump3==flowRatePt)|(self.seq_df.Pump4==flowRatePt)|(self.seq_df.Pump5==flowRatePt)].index\n",
    "    # self.keyTimeBaseline = self.seq_df[(self.seq_df.Pump1==100)].index\n",
    "    # self.keyTimeBaseline = self.keyTimeBaseline[::2]\n",
    "    # print(keyTimeBaseline)\n",
    "\n",
    "    self.testingSequence = testingSequence*seq_cycle #uL"
   ]
  },
  {
   "cell_type": "code",
   "execution_count": null,
   "id": "f58d3ac3-f7a8-4a14-873d-bcbf047793ea",
   "metadata": {},
   "outputs": [],
   "source": [
    "myTest = []\n",
    "\n",
    "testingSequence = [10, 30, 60, 100] #uL:1L\n",
    "myTest.append(myWaterTest('20250603_125215', liquLabel = 'Acetone', liquConc = '10uL/100mL', testingSequence=testingSequence))\n",
    "myTest.append(myWaterTest('20250603_172217', liquLabel = 'Benzene', liquConc = '10uL/100mL', testingSequence=testingSequence))\n",
    "myTest.append(myWaterTest('20250603_202421', liquLabel = 'Toluene', liquConc = '10uL/100mL', testingSequence=testingSequence))\n",
    "myTest.append(myWaterTest('20250603_232616', liquLabel = 'Formaldehyde', liquConc = '10uL/100mL', testingSequence=testingSequence))"
   ]
  },
  {
   "cell_type": "code",
   "execution_count": 3,
   "id": "53a3ed1a-8f30-475a-92a5-98b963cb936c",
   "metadata": {},
   "outputs": [
    {
     "name": "stdout",
     "output_type": "stream",
     "text": [
      "capstone.ipynb\tplotTool\t   water3x3_classifi.ipynb\n",
      "exportCsv\ttempplateKeyf.csv  water3x3_processing.ipynb\n",
      "exportSvg\tuntitled.txt\t   water3x3_si_clssifi.ipynb\n"
     ]
    }
   ],
   "source": [
    "!ls\n"
   ]
  },
  {
   "cell_type": "code",
   "execution_count": null,
   "id": "c3d3763c-4f0b-46f6-862e-ea29108f2220",
   "metadata": {},
   "outputs": [],
   "source": []
  }
 ],
 "metadata": {
  "kernelspec": {
   "display_name": "Python 3 (ipykernel)",
   "language": "python",
   "name": "python3"
  },
  "language_info": {
   "codemirror_mode": {
    "name": "ipython",
    "version": 3
   },
   "file_extension": ".py",
   "mimetype": "text/x-python",
   "name": "python",
   "nbconvert_exporter": "python",
   "pygments_lexer": "ipython3",
   "version": "3.11.11"
  }
 },
 "nbformat": 4,
 "nbformat_minor": 5
}
